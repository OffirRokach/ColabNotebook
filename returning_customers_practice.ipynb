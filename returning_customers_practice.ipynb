{
  "nbformat": 4,
  "nbformat_minor": 0,
  "metadata": {
    "colab": {
      "provenance": [],
      "authorship_tag": "ABX9TyMTKh/XXYlfKx4mhZAfCJYt",
      "include_colab_link": true
    },
    "kernelspec": {
      "name": "python3",
      "display_name": "Python 3"
    },
    "language_info": {
      "name": "python"
    }
  },
  "cells": [
    {
      "cell_type": "markdown",
      "metadata": {
        "id": "view-in-github",
        "colab_type": "text"
      },
      "source": [
        "<a href=\"https://colab.research.google.com/github/OffirRokach/ColabNotebook/blob/main/returning_customers_practice.ipynb\" target=\"_parent\"><img src=\"https://colab.research.google.com/assets/colab-badge.svg\" alt=\"Open In Colab\"/></a>"
      ]
    },
    {
      "cell_type": "code",
      "source": [
        "# Link to chatGPT prompts: https://chat.openai.com/share/7b92932e-bf5f-477f-b861-af08d9e015c3\n",
        "import sqlite3\n",
        "import pandas as pd  # Import pandas for handling the data in table format\n",
        "\n",
        "# Connect to SQLite database (it will be created in the current directory if it does not exist)\n",
        "conn = sqlite3.connect('example.db')\n",
        "c = conn.cursor()\n",
        "\n",
        "# Create the table\n",
        "c.execute('''\n",
        "CREATE TABLE IF NOT EXISTS sales (\n",
        "    customer_num INTEGER,\n",
        "    date_of_purchase DATE,\n",
        "    item_purchased TEXT,\n",
        "    cost REAL,\n",
        "    item_returned BOOLEAN\n",
        ")\n",
        "''')\n",
        "\n",
        "# Data to insert\n",
        "data = [\n",
        "    (1234567, '2023-04-01', 'shirt', 20.00, 0),\n",
        "    (1234567, '2023-04-02', 'shoes', 50.00, 1),\n",
        "    (2345678, '2023-04-03', 'coat', 80.00, 0),\n",
        "    (3456789, '2023-04-04', 'pants', 25.00, 0),\n",
        "    (4567890, '2023-04-05', 'shirt', 20.00, 1),\n",
        "    (5678901, '2023-04-06', 'shoes', 50.00, 0),\n",
        "    (6789012, '2023-04-07', 'coat', 80.00, 1),\n",
        "    (7890123, '2023-04-08', 'pants', 25.00, 0),\n",
        "    (8901234, '2023-04-09', 'shirt', 20.00, 0),\n",
        "    (9012345, '2023-04-10', 'shoes', 50.00, 1),\n",
        "    (6789012, '2023-04-11', 'coat', 80.00, 0),\n",
        "    (5678901, '2023-04-12', 'pants', 25.00, 1),\n",
        "    (1234567, '2023-04-13', 'pants', 40.00, 0)\n",
        "]\n",
        "\n",
        "# Insert data into the table\n",
        "c.executemany('INSERT INTO sales VALUES (?,?,?,?,?)', data)\n",
        "\n",
        "# Commit the changes\n",
        "conn.commit()\n",
        "\n",
        "# Query the table using pandas for nicely formatted output\n",
        "df = pd.read_sql_query('SELECT * FROM sales', conn)\n",
        "print(df)\n",
        "\n",
        "# Close the connection\n",
        "conn.close()\n",
        "\n"
      ],
      "metadata": {
        "id": "-9BCkfxPT6Ij"
      },
      "execution_count": null,
      "outputs": []
    },
    {
      "cell_type": "code",
      "source": [
        "import sqlite3\n",
        "import pandas as pd  # Import pandas for handling the data in table format\n",
        "\n",
        "# Connect to SQLite database\n",
        "conn = sqlite3.connect('example.db')\n",
        "c = conn.cursor()\n",
        "\n",
        "# Drop the existing table if needed, and recreate it\n",
        "c.execute('DROP TABLE IF EXISTS sales')\n",
        "c.execute('''\n",
        "CREATE TABLE sales (\n",
        "    customer_num INTEGER,\n",
        "    date_of_purchase DATE,\n",
        "    item_purchased TEXT,\n",
        "    cost REAL,\n",
        "    item_returned BOOLEAN\n",
        ")\n",
        "''')\n",
        "\n",
        "# Data to insert\n",
        "data = [\n",
        "    (1234567, '2023-04-01', 'shirt', 20.00, 0),\n",
        "    (1234567, '2023-04-02', 'shoes', 50.00, 1),\n",
        "    (2345678, '2023-04-03', 'coat', 80.00, 0),\n",
        "    (3456789, '2023-04-04', 'pants', 25.00, 0),\n",
        "    (4567890, '2023-04-05', 'shirt', 20.00, 1),\n",
        "    (5678901, '2023-04-06', 'shoes', 50.00, 0),\n",
        "    (6789012, '2023-04-07', 'coat', 80.00, 1),\n",
        "    (7890123, '2023-04-08', 'pants', 25.00, 0),\n",
        "    (8901234, '2023-04-09', 'shirt', 20.00, 0),\n",
        "    (9012345, '2023-04-10', 'shoes', 50.00, 1),\n",
        "    (6789012, '2023-04-11', 'coat', 80.00, 0),\n",
        "    (5678901, '2023-04-12', 'pants', 25.00, 1),\n",
        "    (1234567, '2023-04-13', 'pants', 40.00, 0)\n",
        "]\n",
        "\n",
        "# Insert data into the table\n",
        "c.executemany('INSERT INTO sales VALUES (?,?,?,?,?)', data)\n",
        "\n",
        "# Commit the changes\n",
        "conn.commit()\n",
        "\n",
        "# Query the table to find returning customers first way\n",
        "df = pd.read_sql_query('SELECT customer_num, COUNT(*) as num_purchases FROM sales GROUP BY customer_num HAVING COUNT(*) > 1', conn)\n",
        "print(df)\n",
        "\n",
        "# Close the connection\n",
        "conn.close()"
      ],
      "metadata": {
        "colab": {
          "base_uri": "https://localhost:8080/"
        },
        "id": "pPcmciPEJSXv",
        "outputId": "d5e85672-2f32-47f7-f3bb-2d760c2d8a0d"
      },
      "execution_count": 14,
      "outputs": [
        {
          "output_type": "stream",
          "name": "stdout",
          "text": [
            "   customer_num  num_purchases\n",
            "0       1234567              3\n",
            "1       5678901              2\n",
            "2       6789012              2\n"
          ]
        }
      ]
    },
    {
      "cell_type": "code",
      "source": [
        "import sqlite3\n",
        "import pandas as pd\n",
        "\n",
        "# Connect to SQLite database\n",
        "conn = sqlite3.connect('example.db')\n",
        "\n",
        "# SQL query to find returning customers second way\n",
        "query = \"\"\"\n",
        "SELECT customer_num,\n",
        "       date_of_purchase,\n",
        "       item_purchased,\n",
        "       cost,\n",
        "       item_returned,\n",
        "       CASE\n",
        "           WHEN ROW_NUMBER() OVER (PARTITION BY customer_num ORDER BY date_of_purchase) > 1 THEN 0\n",
        "           ELSE 1\n",
        "       END AS first_purchase_indicator\n",
        "FROM sales\n",
        "\"\"\"\n",
        "\n",
        "# Execute the query and use pandas to display the results in a table format\n",
        "df = pd.read_sql_query(query, conn)\n",
        "print(df)\n",
        "\n",
        "# Close the connection\n",
        "conn.close()\n"
      ],
      "metadata": {
        "colab": {
          "base_uri": "https://localhost:8080/"
        },
        "id": "r5LhjLglOZub",
        "outputId": "2af3ab92-d540-48e7-9577-b11f45b6d3f2"
      },
      "execution_count": 16,
      "outputs": [
        {
          "output_type": "stream",
          "name": "stdout",
          "text": [
            "    customer_num date_of_purchase item_purchased  cost  item_returned  \\\n",
            "0        1234567       2023-04-01          shirt  20.0              0   \n",
            "1        1234567       2023-04-02          shoes  50.0              1   \n",
            "2        1234567       2023-04-13          pants  40.0              0   \n",
            "3        2345678       2023-04-03           coat  80.0              0   \n",
            "4        3456789       2023-04-04          pants  25.0              0   \n",
            "5        4567890       2023-04-05          shirt  20.0              1   \n",
            "6        5678901       2023-04-06          shoes  50.0              0   \n",
            "7        5678901       2023-04-12          pants  25.0              1   \n",
            "8        6789012       2023-04-07           coat  80.0              1   \n",
            "9        6789012       2023-04-11           coat  80.0              0   \n",
            "10       7890123       2023-04-08          pants  25.0              0   \n",
            "11       8901234       2023-04-09          shirt  20.0              0   \n",
            "12       9012345       2023-04-10          shoes  50.0              1   \n",
            "\n",
            "    first_purchase_indicator  \n",
            "0                          1  \n",
            "1                          0  \n",
            "2                          0  \n",
            "3                          1  \n",
            "4                          1  \n",
            "5                          1  \n",
            "6                          1  \n",
            "7                          0  \n",
            "8                          1  \n",
            "9                          0  \n",
            "10                         1  \n",
            "11                         1  \n",
            "12                         1  \n"
          ]
        }
      ]
    },
    {
      "cell_type": "code",
      "source": [
        "import sqlite3\n",
        "import pandas as pd\n",
        "\n",
        "# Connect to SQLite database\n",
        "conn = sqlite3.connect('example.db')\n",
        "\n",
        "# SQL query to identify the returning customers using a self-join\n",
        "query = \"\"\"\n",
        "SELECT a.customer_num,\n",
        "       a.date_of_purchase,\n",
        "       a.item_purchased,\n",
        "       a.cost,\n",
        "       a.item_returned,\n",
        "       CASE\n",
        "           WHEN b.date_of_purchase IS NULL THEN 1\n",
        "           ELSE 0\n",
        "       END AS first_purchase_indicator\n",
        "FROM sales a\n",
        "LEFT JOIN sales b\n",
        "ON a.customer_num = b.customer_num AND b.date_of_purchase < a.date_of_purchase\n",
        "GROUP BY a.customer_num, a.date_of_purchase, a.item_purchased, a.cost, a.item_returned\n",
        "\"\"\"\n",
        "\n",
        "# Execute the query and use pandas to display the results in a table format\n",
        "df = pd.read_sql_query(query, conn)\n",
        "print(df)\n",
        "\n",
        "# Close the connection\n",
        "conn.close()\n"
      ],
      "metadata": {
        "colab": {
          "base_uri": "https://localhost:8080/"
        },
        "id": "1vITQZXwQ836",
        "outputId": "b3f31a07-7252-46fa-a1c4-360804fdac0f"
      },
      "execution_count": 17,
      "outputs": [
        {
          "output_type": "stream",
          "name": "stdout",
          "text": [
            "    customer_num date_of_purchase item_purchased  cost  item_returned  \\\n",
            "0        1234567       2023-04-01          shirt  20.0              0   \n",
            "1        1234567       2023-04-02          shoes  50.0              1   \n",
            "2        1234567       2023-04-13          pants  40.0              0   \n",
            "3        2345678       2023-04-03           coat  80.0              0   \n",
            "4        3456789       2023-04-04          pants  25.0              0   \n",
            "5        4567890       2023-04-05          shirt  20.0              1   \n",
            "6        5678901       2023-04-06          shoes  50.0              0   \n",
            "7        5678901       2023-04-12          pants  25.0              1   \n",
            "8        6789012       2023-04-07           coat  80.0              1   \n",
            "9        6789012       2023-04-11           coat  80.0              0   \n",
            "10       7890123       2023-04-08          pants  25.0              0   \n",
            "11       8901234       2023-04-09          shirt  20.0              0   \n",
            "12       9012345       2023-04-10          shoes  50.0              1   \n",
            "\n",
            "    first_purchase_indicator  \n",
            "0                          1  \n",
            "1                          0  \n",
            "2                          0  \n",
            "3                          1  \n",
            "4                          1  \n",
            "5                          1  \n",
            "6                          1  \n",
            "7                          0  \n",
            "8                          1  \n",
            "9                          0  \n",
            "10                         1  \n",
            "11                         1  \n",
            "12                         1  \n"
          ]
        }
      ]
    },
    {
      "cell_type": "code",
      "source": [
        "import sqlite3\n",
        "import pandas as pd\n",
        "\n",
        "# Connect to SQLite database\n",
        "conn = sqlite3.connect('example.db')\n",
        "\n",
        "# SQL query using CTEs to calculate the sum paid by returning customers without considering returns\n",
        "query = \"\"\"\n",
        "WITH ReturningCustomers AS (\n",
        "    SELECT customer_num\n",
        "    FROM sales\n",
        "    GROUP BY customer_num\n",
        "    HAVING COUNT(*) > 1\n",
        "),\n",
        "ValidPurchases AS (\n",
        "    SELECT s.customer_num,\n",
        "           s.cost\n",
        "    FROM sales s\n",
        "    INNER JOIN ReturningCustomers rc ON s.customer_num = rc.customer_num\n",
        "    WHERE s.item_returned = 0  -- Only include non-returned items\n",
        ")\n",
        "\n",
        "SELECT customer_num, SUM(cost) AS total_paid\n",
        "FROM ValidPurchases\n",
        "GROUP BY customer_num\n",
        "\"\"\"\n",
        "\n",
        "# Execute the query and use pandas to display the results in a table format\n",
        "df = pd.read_sql_query(query, conn)\n",
        "print(df)\n",
        "\n",
        "# Close the connection\n",
        "conn.close()\n"
      ],
      "metadata": {
        "colab": {
          "base_uri": "https://localhost:8080/"
        },
        "id": "Uf-Ww4tQUc-Y",
        "outputId": "85d97ede-949c-4a9f-d507-1923ea017182"
      },
      "execution_count": null,
      "outputs": [
        {
          "output_type": "stream",
          "name": "stdout",
          "text": [
            "   customer_num  total_paid\n",
            "0       1234567        20.0\n",
            "1       5678901        50.0\n",
            "2       6789012        80.0\n"
          ]
        }
      ]
    }
  ]
}